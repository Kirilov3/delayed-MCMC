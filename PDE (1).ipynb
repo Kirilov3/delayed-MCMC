{
  "cells": [
    {
      "cell_type": "code",
      "execution_count": 57,
      "metadata": {
        "id": "miE3aSIf9L0t"
      },
      "outputs": [],
      "source": [
        "import numpy as np\n",
        "import matplotlib.pyplot as plt\n",
        "import scipy.stats as st\n",
        "import datetime"
      ]
    },
    {
      "cell_type": "code",
      "execution_count": 58,
      "metadata": {
        "id": "K4pJtnIsEZ4i"
      },
      "outputs": [],
      "source": [
        "import statsmodels.api as sm\n",
        "import pandas as pd"
      ]
    },
    {
      "cell_type": "code",
      "source": [
        "from google.colab import files"
      ],
      "metadata": {
        "id": "oBJUllE5HJtS"
      },
      "execution_count": 59,
      "outputs": []
    },
    {
      "cell_type": "code",
      "execution_count": 60,
      "metadata": {
        "id": "Yk7dphWi9Qc0"
      },
      "outputs": [],
      "source": [
        "def multilognorm(x):\n",
        "  ans = 1\n",
        "  for i in range(len(x)):\n",
        "    ans *= st.lognorm.pdf(x[i],1,loc=0,scale=1)\n",
        "    #ans *= np.exp(-np.log(x[i])**2/2)/(x[i]*np.sqrt(2*np.pi))\n",
        "  return ans\n",
        "\n",
        "def norm(x):\n",
        "  ans = 1 \n",
        "  for i in range(len(x)):\n",
        "    ans *= np.exp(-(x[i])**2/2)/np.sqrt(2*np.pi)\n",
        "  return ans"
      ]
    },
    {
      "cell_type": "code",
      "execution_count": 61,
      "metadata": {
        "colab": {
          "base_uri": "https://localhost:8080/"
        },
        "id": "jJtG8mRc9XOs",
        "outputId": "bbd8f3d6-8c3d-4419-d5be-251f76ef3c17"
      },
      "outputs": [
        {
          "output_type": "stream",
          "name": "stdout",
          "text": [
            "[0.16996528 0.3416009  0.51791243 0.698096   0.88573264 1.30470675\n",
            " 1.52649605 1.75859467]\n"
          ]
        }
      ],
      "source": [
        "def finite_grid2(kappa,h):         # assume that the interval for each kappa_i is equal \n",
        "  dem = int(1/h - 1)         # assume that stepsize h always smaller or equal than .1\n",
        "  b = np.linspace(0,1,int(1/h)+1)\n",
        "  b = b[1:]\n",
        "  b = b[:-1]\n",
        "  A = np.zeros((dem,dem))\n",
        "  a = np.linspace(0.1,1,len(kappa)+1)\n",
        "  if h == .1:\n",
        "    A[0,0] = -2*kappa[0]/(h**2)\n",
        "    A[0,1] = kappa[0]/(h**2)\n",
        "  else:\n",
        "    A[0,0] = -2/(h**2)\n",
        "    A[0,1] = 1/(h**2)\n",
        "  for i in range(1,dem-1): \n",
        "    if i*h < 0.1:\n",
        "      A[i,i] = -2/(h**2)\n",
        "      A[i,i-1] = 1/(h**2)\n",
        "      A[i,i+1] = 1/(h**2)\n",
        "    else:\n",
        "      s = i\n",
        "      break\n",
        "  t = 0\n",
        "  for i in range(s,dem-1):\n",
        "    if i*h >= a[t] and i*h < a[t+1]:\n",
        "      A[i,i] = -2*kappa[t]/(h**2)\n",
        "      A[i,i-1] = kappa[t]/(h**2) \n",
        "      A[i,i+1] = kappa[t]/(h**2) \n",
        "    else:\n",
        "      t += 1\n",
        "      A[i,i] = -2*kappa[t]/(h**2)\n",
        "      A[i,i-1] = kappa[t]/(h**2) \n",
        "      A[i,i+1] = kappa[t]/(h**2) \n",
        "  A[-1,-1] = -2*kappa[-1]/(h**2)\n",
        "  A[-1,-2] = kappa[-1]/(h**2)\n",
        "  b[-1] -= 2*kappa[-1]/(h**2)\n",
        "  ans = np.linalg.inv(A)@b\n",
        "  x = []\n",
        "  for i in range(len(ans)):\n",
        "    if (i+1)*h in a:\n",
        "      x.append(ans[i])\n",
        "  return np.array(x)\n",
        "\n",
        "k = np.random.lognormal(0,1,9)\n",
        "#print(finite_grid2(k,0.01))\n",
        "print(finite_grid2(k,0.05))"
      ]
    },
    {
      "cell_type": "code",
      "execution_count": 88,
      "metadata": {
        "id": "hAVbaNCw_Nrm"
      },
      "outputs": [],
      "source": [
        "def MH(m,d):    # m iterations/ d demension \n",
        "  x = np.zeros((m,d))\n",
        "  k = 0\n",
        "  x[0] = np.random.normal(0,1,d)\n",
        "  e = np.random.lognormal(0,1,d)\n",
        "  #e = np.exp(e)\n",
        "  #e = np.exp(1/2)*np.ones(d)\n",
        "      # e is the seed that used to generate data \n",
        "  data = finite_grid2(e,0.05) \n",
        "  for j in range(1,m):\n",
        "    xt = x[j-1]\n",
        "    y = xt+np.random.normal(0,0.64,d)\n",
        "    s = np.random.rand(1)\n",
        "    u = finite_grid2(np.exp(xt),0.05)\n",
        "    v = finite_grid2(np.exp(y),0.05)\n",
        "    r = multilognorm(np.exp(y))*np.exp((-np.linalg.norm(data-v))**2/2*10**(-5))/(multilognorm(np.exp(xt))*np.exp((-np.linalg.norm(data-u))**2/2*10**(-5)))\n",
        "    #ratio = np.log(multilognorm(np.exp(y)))-np.log(multilognorm(np.exp(xt)))+((np.linalg.norm(data-u))**2)/(2*10**(-5))-((np.linalg.norm(data-v))**2)/(2*10**(-5))\n",
        "                                # multilognorm is a function that I write to calcu the value of prior\n",
        "                             \n",
        "    \n",
        "    if s <= min(1,r):\n",
        "      x[j] = y\n",
        "    else:\n",
        "      x[j] = xt\n",
        "      k+=1\n",
        "  print('reject probablity: ' + str(k / m))\n",
        "  #return np.exp(np.sum(x,axis=0)/m)\n",
        "  \n",
        "  x = np.exp(x)\n",
        "  \n",
        "  return x,e\n",
        "\n"
      ]
    },
    {
      "cell_type": "code",
      "execution_count": 89,
      "metadata": {
        "colab": {
          "base_uri": "https://localhost:8080/"
        },
        "id": "QkfJukKS_4A-",
        "outputId": "9c51ccb0-7905-404d-c38d-ebe32c80bb63"
      },
      "outputs": [
        {
          "output_type": "stream",
          "name": "stdout",
          "text": [
            "reject probablity: 0.63908\n",
            "0:10:04.237785\n"
          ]
        }
      ],
      "source": [
        "start = datetime.datetime.now()\n",
        "x2,da = MH(100000,9)\n",
        "print(datetime.datetime.now()-start)\n",
        "\n",
        "\n"
      ]
    },
    {
      "cell_type": "code",
      "execution_count": null,
      "metadata": {
        "colab": {
          "base_uri": "https://localhost:8080/"
        },
        "id": "qKn1oPjitFM9",
        "outputId": "fccc326c-e166-4aa4-f039-223b594d3a92"
      },
      "outputs": [
        {
          "output_type": "stream",
          "name": "stdout",
          "text": [
            "[0.60576501 0.59171742 0.59357755 0.60341805 0.61083134 0.59355482\n",
            " 0.6096749  0.59954205 0.58835538]\n"
          ]
        }
      ],
      "source": [
        "print(np.mean(x2,axis=0))"
      ]
    },
    {
      "cell_type": "code",
      "execution_count": 68,
      "metadata": {
        "colab": {
          "base_uri": "https://localhost:8080/",
          "height": 323
        },
        "id": "bfpdEgHM3-kY",
        "outputId": "00a65abd-6a6d-45ef-e777-0e52a9a5c2b9"
      },
      "outputs": [
        {
          "output_type": "stream",
          "name": "stderr",
          "text": [
            "/usr/local/lib/python3.7/dist-packages/ipykernel_launcher.py:2: VisibleDeprecationWarning: Passing `normed=True` on non-uniform bins has always been broken, and computes neither the probability density function nor the probability mass function. The result is only correct if the bins are uniform, when density=True will produce the same result anyway. The argument will be removed in a future version of numpy.\n",
            "  \n"
          ]
        },
        {
          "output_type": "display_data",
          "data": {
            "text/plain": [
              "<Figure size 432x288 with 1 Axes>"
            ],
            "image/png": "[encoded data removed]"
          },
          "metadata": {
            "needs_background": "light"
          }
        }
      ],
      "source": [
        "tick = np.arange(x2[:,0].min(), x2[:,0].max(), 0.001)\n",
        "p, y = np.histogram(x[:,0], bins=100, normed=True)\n",
        "plt.plot(tick, st.lognorm.pdf(tick,1),'r',label='prior')\n",
        "y = (y[:-1] + y[1:])/2\n",
        "plt.plot(y, p, '--b',label='posterior')\n",
        "plt.xlim(0,4)\n",
        "plt.legend()\n",
        "#plt.savefig(\"1st_dim_of_kappai_by_MH.png\")\n",
        "#files.download(\"1st_dim_of_kappai_by_MH.png\")\n",
        "plt.show()"
      ]
    },
    {
      "cell_type": "code",
      "execution_count": 65,
      "metadata": {
        "colab": {
          "base_uri": "https://localhost:8080/",
          "height": 320
        },
        "id": "X4idKUZjTUPp",
        "outputId": "a435c125-cc87-4a51-999f-1b16149436f4"
      },
      "outputs": [
        {
          "output_type": "stream",
          "name": "stderr",
          "text": [
            "/usr/local/lib/python3.7/dist-packages/ipykernel_launcher.py:2: VisibleDeprecationWarning: Passing `normed=True` on non-uniform bins has always been broken, and computes neither the probability density function nor the probability mass function. The result is only correct if the bins are uniform, when density=True will produce the same result anyway. The argument will be removed in a future version of numpy.\n",
            "  \n"
          ]
        },
        {
          "output_type": "display_data",
          "data": {
            "text/plain": [
              "<Figure size 432x288 with 1 Axes>"
            ],
            "image/png": "[encoded data removed]"
          },
          "metadata": {
            "needs_background": "light"
          }
        }
      ],
      "source": [
        "tick = np.arange(x2[:,1].min(), x2[:,1].max(), 0.001)\n",
        "p, y = np.histogram(x2[:,1], bins=100, normed=True)\n",
        "plt.plot(tick, st.lognorm.pdf(tick,1),'r',label='prior')\n",
        "y = (y[:-1] + y[1:])/2\n",
        "plt.plot(y, p, '--b',label='posterior')\n",
        "plt.xlim(0,4)\n",
        "plt.legend()\n",
        "plt.show()"
      ]
    },
    {
      "cell_type": "code",
      "execution_count": null,
      "metadata": {
        "colab": {
          "base_uri": "https://localhost:8080/"
        },
        "id": "x3J0cGVKSxAZ",
        "outputId": "390634bf-bcc6-4898-bdc5-566cff385503"
      },
      "outputs": [
        {
          "output_type": "stream",
          "name": "stderr",
          "text": [
            "/usr/local/lib/python3.7/dist-packages/statsmodels/tsa/stattools.py:541: FutureWarning: fft=True will become the default in a future version of statsmodels. To suppress this warning, explicitly set fft=False.\n",
            "  warnings.warn(msg, FutureWarning)\n"
          ]
        },
        {
          "output_type": "stream",
          "name": "stdout",
          "text": [
            "[1.         0.91657987 0.84059291 0.76894861 0.70563335 0.64801155\n",
            " 0.59442262 0.54526043 0.50360606 0.4672733  0.43352022 0.40153247\n",
            " 0.37086909 0.34322636 0.31702627 0.2925828  0.26985222 0.24929802\n",
            " 0.23153341 0.21477681 0.19865829 0.18139193 0.16577732 0.15205469\n",
            " 0.13972205 0.12820512 0.11693488 0.10699348 0.09866056 0.09156869\n",
            " 0.08529135 0.07872651 0.07150366 0.06509171 0.05897663 0.05349923\n",
            " 0.04887724 0.04442877 0.04009048 0.03644133 0.03351486]\n",
            "[1.         0.91472501 0.84058497 0.77393027 0.71381129 0.6605571\n",
            " 0.60939368 0.562311   0.51827192 0.47987717 0.44514594 0.41180159\n",
            " 0.38010846 0.34959932 0.32178938 0.29778629 0.27527871 0.25310421\n",
            " 0.23340001 0.21523003 0.19905595 0.18426851 0.1721058  0.16046971\n",
            " 0.149384   0.13940054 0.12933185 0.1215424  0.11423743 0.10730735\n",
            " 0.10127255 0.09474044 0.08843362 0.08233879 0.0773885  0.07311303\n",
            " 0.07004499 0.06721572 0.06468818 0.06128986 0.05768262]\n"
          ]
        }
      ],
      "source": [
        "t0 = sm.tsa.acf(x2[:,2])\n",
        "t1 = sm.tsa.acf(x2[:,1])\n",
        "print(t0)\n",
        "print(t1)\n"
      ]
    },
    {
      "cell_type": "code",
      "execution_count": null,
      "metadata": {
        "id": "yz7cHnVexOUY",
        "colab": {
          "base_uri": "https://localhost:8080/",
          "height": 296
        },
        "outputId": "f14f7374-bcfe-4886-fc6a-95957695ff0e"
      },
      "outputs": [
        {
          "output_type": "stream",
          "name": "stderr",
          "text": [
            "WARNING:matplotlib.legend:No handles with labels found to put in legend.\n"
          ]
        },
        {
          "output_type": "display_data",
          "data": {
            "text/plain": [
              "<IPython.core.display.Javascript object>"
            ],
            "application/javascript": [
              "\n",
              "    async function download(id, filename, size) {\n",
              "      if (!google.colab.kernel.accessAllowed) {\n",
              "        return;\n",
              "      }\n",
              "      const div = document.createElement('div');\n",
              "      const label = document.createElement('label');\n",
              "      label.textContent = `Downloading \"${filename}\": `;\n",
              "      div.appendChild(label);\n",
              "      const progress = document.createElement('progress');\n",
              "      progress.max = size;\n",
              "      div.appendChild(progress);\n",
              "      document.body.appendChild(div);\n",
              "\n",
              "      const buffers = [];\n",
              "      let downloaded = 0;\n",
              "\n",
              "      const channel = await google.colab.kernel.comms.open(id);\n",
              "      // Send a message to notify the kernel that we're ready.\n",
              "      channel.send({})\n",
              "\n",
              "      for await (const message of channel.messages) {\n",
              "        // Send a message to notify the kernel that we're ready.\n",
              "        channel.send({})\n",
              "        if (message.buffers) {\n",
              "          for (const buffer of message.buffers) {\n",
              "            buffers.push(buffer);\n",
              "            downloaded += buffer.byteLength;\n",
              "            progress.value = downloaded;\n",
              "          }\n",
              "        }\n",
              "      }\n",
              "      const blob = new Blob(buffers, {type: 'application/binary'});\n",
              "      const a = document.createElement('a');\n",
              "      a.href = window.URL.createObjectURL(blob);\n",
              "      a.download = filename;\n",
              "      div.appendChild(a);\n",
              "      a.click();\n",
              "      div.remove();\n",
              "    }\n",
              "  "
            ]
          },
          "metadata": {}
        },
        {
          "output_type": "display_data",
          "data": {
            "text/plain": [
              "<IPython.core.display.Javascript object>"
            ],
            "application/javascript": [
              "download(\"download_0953fe4a-76e7-4d8a-b53d-e8dad2c6c7de\", \"atuoco_2nd_dim_by_MH.png\", 8148)"
            ]
          },
          "metadata": {}
        },
        {
          "output_type": "display_data",
          "data": {
            "text/plain": [
              "<Figure size 432x288 with 1 Axes>"
            ],
            "image/png": "[encoded data removed]"
          },
          "metadata": {
            "needs_background": "light"
          }
        }
      ],
      "source": [
        "l = np.arange(len(t1))\n",
        "plt.scatter(l,t1)\n",
        "plt.xlabel('lag')\n",
        "plt.ylabel('autocorrelation')\n",
        "plt.legend()\n",
        "plt.savefig(\"atuoco_2nd_dim_by_MH.png\")\n",
        "files.download(\"atuoco_2nd_dim_by_MH.png\")\n",
        "plt.show()"
      ]
    },
    {
      "cell_type": "code",
      "execution_count": null,
      "metadata": {
        "id": "7F4TjkCw3tgJ"
      },
      "outputs": [],
      "source": [
        "plt.scatter(l,t1)\n",
        "plt.xlabel('lag')\n",
        "plt.ylabel('autocorrelation')\n",
        "plt.title('1st dem of 2-dem')"
      ]
    },
    {
      "cell_type": "code",
      "execution_count": null,
      "metadata": {
        "colab": {
          "base_uri": "https://localhost:8080/"
        },
        "id": "nMo7gMHoeln7",
        "outputId": "9e84c16c-e7a0-4784-c187-d182a9d990b4"
      },
      "outputs": [
        {
          "output_type": "stream",
          "name": "stdout",
          "text": [
            "[2.6839364  0.95846569 2.22786453 0.40947762 0.64840228 1.24276024\n",
            " 0.86445234 0.97491395 2.56245216]\n",
            "reject probablity: 0.63835\n",
            "[1.94940112 0.22411784 0.26139846 0.24489786 1.18660931 1.36746991\n",
            " 0.12646819 0.36642576 2.7671304 ]\n",
            "reject probablity: 0.63734\n",
            "[0.60277047 2.90957728 1.62625526 0.1914856  1.07377788 1.78568738\n",
            " 0.21693605 0.07487037 1.17944416]\n",
            "reject probablity: 0.64064\n",
            "[0.57739292 1.75401924 1.93398371 0.09878893 0.97934738 1.66821655\n",
            " 7.38682705 2.55200781 0.16587512]\n",
            "reject probablity: 0.64072\n",
            "0.6017744711064529\n",
            "7.142137723662959\n",
            "0.5966809886492767 0.6578548666341982 0.5907239213274394 0.6201726933015821 0.6472012685494345\n"
          ]
        },
        {
          "output_type": "execute_result",
          "data": {
            "text/plain": [
              "1.0001163646738453"
            ]
          },
          "metadata": {},
          "execution_count": 8
        }
      ],
      "source": [
        "x6 = MH(100000,9)\n",
        "x3 = MH(100000,9)\n",
        "x4 = MH(100000,9)\n",
        "x5 = MH(100000,9)\n",
        "D= 10000\n",
        "J =5\n",
        "L =100000-D\n",
        "x20 = x2[D:,0]\n",
        "x30 = x3[D:,0]\n",
        "x40 = x4[D:,0]\n",
        "x50 = x5[D:,0]\n",
        "x60 = x6[D:,0]   # discard 1st 1000 values\n",
        "\n",
        "x_2 = np.mean(x20)\n",
        "x_3 = np.mean(x30)\n",
        "x_4 = np.mean(x40)\n",
        "x_5 = np.mean(x50)\n",
        "x_6 = np.mean(x60) # for each chain, calcu their mean \n",
        "xd = (x_2+x_3+x_4+x_5+x_6)/5  # grand mean \n",
        "print(xd)\n",
        "B = L*((x_2-xd)**2+(x_3-xd)**2+(x_4-xd)**2+(x_5-xd)**2+(x_6-xd)**2)/(J-1)   # between chain variance \n",
        "print(B)\n",
        "s2 = np.std(x2)**2\n",
        "s3 = np.std(x3)**2\n",
        "s4 = np.std(x4)**2\n",
        "s5 = np.std(x5)**2\n",
        "s6 = np.std(x6)**2     # within chain variance \n",
        "print(s2,s3,s4,s5,s6)\n",
        "W = (s2+s3+s4+s5+s6)/5\n",
        "R= (L-1)*W/L+B/L\n",
        "R=R/W\n",
        "R   #GR stats "
      ]
    },
    {
      "cell_type": "code",
      "execution_count": null,
      "metadata": {
        "id": "O6yeRqy5P6O-"
      },
      "outputs": [],
      "source": [
        "#########################"
      ]
    },
    {
      "cell_type": "code",
      "execution_count": 90,
      "metadata": {
        "id": "dXS234f2WCrI"
      },
      "outputs": [],
      "source": [
        "def algo1(m,d,d2):\n",
        "  x = np.zeros((m,d))\n",
        "  k = 0\n",
        "  x[0] = np.random.normal(0,1,d)\n",
        "  #e = np.random.lognormal(0,1,d)\n",
        "  i = 0\n",
        "  #print(e)\n",
        "  data = finite_grid2(d2,0.05) #####\n",
        "  for j in range(1,m):\n",
        "    xt = x[j-1]\n",
        "    y = xt+np.random.normal(0,0.64,d)\n",
        "    s = np.random.rand(1)\n",
        "    u = finite_grid2(np.exp(xt),0.1)\n",
        "    v = finite_grid2(np.exp(y),0.1)\n",
        "    r = multilognorm(np.exp(y))*np.exp((-np.linalg.norm(data-v))**2/2*10**(-5))/(multilognorm(np.exp(xt))*np.exp((-np.linalg.norm(data-u))**2/2*10**(-5)))\n",
        "    rd = 1/r                        \n",
        "    if s >= min(1,r):\n",
        "      x[j] = xt\n",
        "      k += 1\n",
        "    else:\n",
        "      r = min(1,r)\n",
        "      rd = min(1,rd)\n",
        "      u = finite_grid2(np.exp(xt),0.05)\n",
        "      v = finite_grid2(np.exp(y),0.05)\n",
        "      r = multilognorm(np.exp(y))*np.exp((-np.linalg.norm(data-v))**2/2*10**(-5)*rd)/(r*multilognorm(np.exp(xt))*np.exp((-np.linalg.norm(data-u))**2/2*10**(-5)))\n",
        "      ss = np.random.rand(1)\n",
        "      if ss >= min(1,r):\n",
        "        x[j] = xt\n",
        "        i += 1\n",
        "      else:\n",
        "       x[j] = y\n",
        "      \n",
        "  print('reject probablity: ' + str(k / m))\n",
        "  x = np.exp(x)\n",
        "  print(k,i)\n",
        "  return x"
      ]
    },
    {
      "cell_type": "code",
      "execution_count": 91,
      "metadata": {
        "colab": {
          "base_uri": "https://localhost:8080/"
        },
        "id": "HeCqTBXhWRqX",
        "outputId": "a9fb730e-0969-44bc-bb6d-cfec29d18428"
      },
      "outputs": [
        {
          "output_type": "stream",
          "name": "stdout",
          "text": [
            "reject probablity: 0.639\n",
            "63900 0\n",
            "0:13:08.955668\n",
            "[0.61224832 0.57721498 0.59689858 0.59480904 0.61629169 0.61151202\n",
            " 0.5989059  0.59693042 0.60627496]\n"
          ]
        }
      ],
      "source": [
        "start = datetime.datetime.now()\n",
        "x = algo1(100000,9,da)\n",
        "print(datetime.datetime.now()-start)\n",
        "print(np.mean(x,axis=0))"
      ]
    },
    {
      "cell_type": "code",
      "source": [
        "t = np.arange(x[:,3].min(),x[:,3].max(),0.001)\n",
        "p, y = np.histogram(x[:,3], bins=100, normed=True)\n",
        "plt.plot(t, st.lognorm.pdf(t,1),'r',label='standard lognormal')\n",
        "y = (y[:-1] + y[1:])/2\n",
        "plt.plot(y, p, '--b',label='Algorithm 1')\n",
        "q, z = np.histogram(x2[:,3],bins=100,normed=True)\n",
        "z = (z[:-1] + z[1:])/2\n",
        "plt.plot(z,q,'--g',label='MH algorithm')\n",
        "plt.xlim(0,4)\n",
        "plt.legend()\n",
        "#plt.savefig(\"comparison_of_dim1new2.png\")\n",
        "#files.download(\"comparison_of_dim1new2.png\")\n",
        "plt.show\n"
      ],
      "metadata": {
        "colab": {
          "base_uri": "https://localhost:8080/",
          "height": 372
        },
        "id": "rKKH7svprCLw",
        "outputId": "4cf1f15b-43c6-47fe-f55f-3fd89bf45931"
      },
      "execution_count": 87,
      "outputs": [
        {
          "output_type": "stream",
          "name": "stderr",
          "text": [
            "/usr/local/lib/python3.7/dist-packages/ipykernel_launcher.py:2: VisibleDeprecationWarning: Passing `normed=True` on non-uniform bins has always been broken, and computes neither the probability density function nor the probability mass function. The result is only correct if the bins are uniform, when density=True will produce the same result anyway. The argument will be removed in a future version of numpy.\n",
            "  \n",
            "/usr/local/lib/python3.7/dist-packages/ipykernel_launcher.py:6: VisibleDeprecationWarning: Passing `normed=True` on non-uniform bins has always been broken, and computes neither the probability density function nor the probability mass function. The result is only correct if the bins are uniform, when density=True will produce the same result anyway. The argument will be removed in a future version of numpy.\n",
            "  \n"
          ]
        },
        {
          "output_type": "execute_result",
          "data": {
            "text/plain": [
              "<function matplotlib.pyplot.show(*args, **kw)>"
            ]
          },
          "metadata": {},
          "execution_count": 87
        },
        {
          "output_type": "display_data",
          "data": {
            "text/plain": [
              "<Figure size 432x288 with 1 Axes>"
            ],
            "image/png": "[encoded data removed]"
          },
          "metadata": {
            "needs_background": "light"
          }
        }
      ]
    },
    {
      "cell_type": "code",
      "execution_count": 71,
      "metadata": {
        "id": "9Od_iP_GdOXW",
        "colab": {
          "base_uri": "https://localhost:8080/"
        },
        "outputId": "0da59f17-e03a-4493-df83-0e7c865cee3f"
      },
      "outputs": [
        {
          "output_type": "stream",
          "name": "stderr",
          "text": [
            "/usr/local/lib/python3.7/dist-packages/statsmodels/tsa/stattools.py:662: FutureWarning: The default number of lags is changing from 40 tomin(int(10 * np.log10(nobs)), nobs - 1) after 0.12is released. Set the number of lags to an integer to  silence this warning.\n",
            "  FutureWarning,\n",
            "/usr/local/lib/python3.7/dist-packages/statsmodels/tsa/stattools.py:671: FutureWarning: fft=True will become the default after the release of the 0.12 release of statsmodels. To suppress this warning, explicitly set fft=False.\n",
            "  FutureWarning,\n"
          ]
        },
        {
          "output_type": "stream",
          "name": "stdout",
          "text": [
            "[1.         0.9085522  0.82689545 0.75747718 0.69141506 0.63479464\n",
            " 0.5843408  0.53615505 0.49050917 0.449369   0.41033388 0.37717577\n",
            " 0.34866222 0.32213759 0.29822192 0.27710609 0.25694307 0.23602533\n",
            " 0.21728027 0.2006092  0.18652369 0.17352391 0.16281052 0.15201149\n",
            " 0.14170343 0.13150438 0.12249004 0.11473925 0.10729507 0.10055011\n",
            " 0.09392248 0.08780682 0.0820787  0.0755903  0.06999673 0.0637601\n",
            " 0.05756419 0.05224475 0.04823872 0.04445519 0.04044542]\n",
            "[1.         0.91984273 0.84197257 0.76654207 0.69892952 0.63673454\n",
            " 0.5807014  0.53542104 0.49339386 0.45742457 0.42598953 0.39764718\n",
            " 0.37121998 0.34452107 0.32120673 0.29943513 0.27679073 0.2558746\n",
            " 0.23400126 0.21397753 0.19442622 0.17724301 0.16208936 0.14889503\n",
            " 0.13838032 0.12859883 0.12059247 0.11351029 0.10655127 0.09974649\n",
            " 0.09267823 0.08604539 0.08067845 0.07483951 0.07036658 0.06642416\n",
            " 0.06231649 0.059312   0.05627157 0.05350376 0.05055175]\n",
            "[1.         0.91626886 0.84315118 0.77640313 0.71689436 0.66107653\n",
            " 0.61113772 0.56496061 0.52315254 0.48436256 0.44966845 0.41686091\n",
            " 0.38548038 0.35532911 0.32667238 0.30094748 0.27748251 0.25706337\n",
            " 0.23774492 0.22020159 0.20342184 0.18745309 0.17184981 0.15936534\n",
            " 0.14785288 0.13702113 0.12511482 0.1130289  0.10224257 0.09249876\n",
            " 0.08491644 0.07797812 0.07189724 0.06631759 0.06155662 0.05760959\n",
            " 0.0547309  0.05188965 0.04972316 0.04623931 0.04202088]\n"
          ]
        }
      ],
      "source": [
        "print(sm.tsa.acf(x[:,0]))\n",
        "print(sm.tsa.acf(x[:,1]))\n",
        "print(sm.tsa.acf(x[:,2]))"
      ]
    },
    {
      "cell_type": "code",
      "source": [
        "t1 = sm.tsa.acf(x[:,0])\n",
        "t2 = sm.tsa.acf(x[:,1])"
      ],
      "metadata": {
        "id": "FvRq9jjwAnd7"
      },
      "execution_count": null,
      "outputs": []
    },
    {
      "cell_type": "code",
      "source": [
        "l = np.arange(len(t2))\n",
        "plt.scatter(l,t2)\n",
        "plt.xlabel('lag')\n",
        "plt.ylabel('autocorrelation')\n",
        "plt.legend()\n",
        "plt.savefig(\"atuoco_2nd_dim_by_Algo1.png\")\n",
        "files.download(\"atuoco_2nd_dim_by_Algo1.png\")\n",
        "plt.show()"
      ],
      "metadata": {
        "colab": {
          "base_uri": "https://localhost:8080/",
          "height": 296
        },
        "id": "hYL0NTnPAeD_",
        "outputId": "3e9b29af-3d90-4ac5-fc57-96544e262b58"
      },
      "execution_count": null,
      "outputs": [
        {
          "output_type": "stream",
          "name": "stderr",
          "text": [
            "WARNING:matplotlib.legend:No handles with labels found to put in legend.\n"
          ]
        },
        {
          "output_type": "display_data",
          "data": {
            "text/plain": [
              "<IPython.core.display.Javascript object>"
            ],
            "application/javascript": [
              "\n",
              "    async function download(id, filename, size) {\n",
              "      if (!google.colab.kernel.accessAllowed) {\n",
              "        return;\n",
              "      }\n",
              "      const div = document.createElement('div');\n",
              "      const label = document.createElement('label');\n",
              "      label.textContent = `Downloading \"${filename}\": `;\n",
              "      div.appendChild(label);\n",
              "      const progress = document.createElement('progress');\n",
              "      progress.max = size;\n",
              "      div.appendChild(progress);\n",
              "      document.body.appendChild(div);\n",
              "\n",
              "      const buffers = [];\n",
              "      let downloaded = 0;\n",
              "\n",
              "      const channel = await google.colab.kernel.comms.open(id);\n",
              "      // Send a message to notify the kernel that we're ready.\n",
              "      channel.send({})\n",
              "\n",
              "      for await (const message of channel.messages) {\n",
              "        // Send a message to notify the kernel that we're ready.\n",
              "        channel.send({})\n",
              "        if (message.buffers) {\n",
              "          for (const buffer of message.buffers) {\n",
              "            buffers.push(buffer);\n",
              "            downloaded += buffer.byteLength;\n",
              "            progress.value = downloaded;\n",
              "          }\n",
              "        }\n",
              "      }\n",
              "      const blob = new Blob(buffers, {type: 'application/binary'});\n",
              "      const a = document.createElement('a');\n",
              "      a.href = window.URL.createObjectURL(blob);\n",
              "      a.download = filename;\n",
              "      div.appendChild(a);\n",
              "      a.click();\n",
              "      div.remove();\n",
              "    }\n",
              "  "
            ]
          },
          "metadata": {}
        },
        {
          "output_type": "display_data",
          "data": {
            "text/plain": [
              "<IPython.core.display.Javascript object>"
            ],
            "application/javascript": [
              "download(\"download_580210d2-4695-466d-86f1-35c79364b81c\", \"atuoco_2nd_dim_by_Algo1.png\", 8510)"
            ]
          },
          "metadata": {}
        },
        {
          "output_type": "display_data",
          "data": {
            "text/plain": [
              "<Figure size 432x288 with 1 Axes>"
            ],
            "image/png": "[encoded data removed]"
          },
          "metadata": {
            "needs_background": "light"
          }
        }
      ]
    },
    {
      "cell_type": "code",
      "execution_count": 76,
      "metadata": {
        "colab": {
          "base_uri": "https://localhost:8080/"
        },
        "id": "GdPrS6ueUn3y",
        "outputId": "516b0a49-1790-4a97-f48d-2f80cadf21e7"
      },
      "outputs": [
        {
          "output_type": "stream",
          "name": "stdout",
          "text": [
            "reject probablity: 0.637\n",
            "63700 0\n",
            "reject probablity: 0.63852\n",
            "63852 0\n",
            "reject probablity: 0.63897\n",
            "63897 0\n",
            "reject probablity: 0.63734\n",
            "63734 0\n"
          ]
        }
      ],
      "source": [
        "x6 = algo1(100000,9,da)\n",
        "x3 = algo1(100000,9,da)\n",
        "x4 = algo1(100000,9,da)\n",
        "x5 = algo1(100000,9,da)"
      ]
    },
    {
      "cell_type": "code",
      "execution_count": 78,
      "metadata": {
        "colab": {
          "base_uri": "https://localhost:8080/"
        },
        "id": "TID3e3JiOMo1",
        "outputId": "b264d4e9-1848-46e3-8072-41fbf921c0ba"
      },
      "outputs": [
        {
          "output_type": "stream",
          "name": "stdout",
          "text": [
            "0.5965648960014032\n",
            "28.795453601342608\n",
            "0.647850787352493 0.6207470340852569 0.6335135748071913 0.6538599060731171 0.6448142916294066\n"
          ]
        },
        {
          "output_type": "execute_result",
          "data": {
            "text/plain": [
              "1.0004886872588021"
            ]
          },
          "metadata": {},
          "execution_count": 78
        }
      ],
      "source": [
        "D= 10000\n",
        "J =5\n",
        "L =100000-D\n",
        "x21 = x[D:,0]\n",
        "x31 = x3[D:,1]\n",
        "x41 = x4[D:,1]\n",
        "x51 = x5[D:,1]\n",
        "x61 = x6[D:,1]   # discard 1st 1000 values\n",
        "\n",
        "x_2 = np.mean(x21)\n",
        "x_3 = np.mean(x31)\n",
        "x_4 = np.mean(x41)\n",
        "x_5 = np.mean(x51)\n",
        "x_6 = np.mean(x61) # for each chain, calcu their mean \n",
        "xd = (x_2+x_3+x_4+x_5+x_6)/5  # grand mean \n",
        "print(xd)\n",
        "B = L*((x_2-xd)**2+(x_3-xd)**2+(x_4-xd)**2+(x_5-xd)**2+(x_6-xd)**2)/(J-1)   # between chain variance \n",
        "print(B)\n",
        "s2 = np.std(x)**2\n",
        "s3 = np.std(x3)**2\n",
        "s4 = np.std(x4)**2\n",
        "s5 = np.std(x5)**2\n",
        "s6 = np.std(x6)**2     # within chain variance \n",
        "print(s2,s3,s4,s5,s6)\n",
        "W = (s2+s3+s4+s5+s6)/5\n",
        "R= (L-1)*W/L+B/L\n",
        "R=R/W\n",
        "R  "
      ]
    },
    {
      "cell_type": "code",
      "execution_count": null,
      "metadata": {
        "colab": {
          "base_uri": "https://localhost:8080/",
          "height": 312
        },
        "id": "sfiUc4qk0ppl",
        "outputId": "720bc891-9a11-4e6a-942e-88c9ea4ecd7b"
      },
      "outputs": [
        {
          "data": {
            "text/plain": [
              "Text(0.5, 1.0, '1st dem of 2-dem')"
            ]
          },
          "execution_count": 45,
          "metadata": {},
          "output_type": "execute_result"
        },
        {
          "data": {
            "image/png": "[encoded data removed]",
            "text/plain": [
              "<Figure size 432x288 with 1 Axes>"
            ]
          },
          "metadata": {},
          "output_type": "display_data"
        }
      ],
      "source": [
        "l = np.arange(len(t1))\n",
        "plt.scatter(l,t1)\n",
        "plt.xlabel('lag')\n",
        "plt.ylabel('autocorrelation')\n",
        "plt.title('1st dem of 2-dem')"
      ]
    },
    {
      "cell_type": "code",
      "execution_count": null,
      "metadata": {
        "colab": {
          "base_uri": "https://localhost:8080/",
          "height": 312
        },
        "id": "7mm5XI6EdI4q",
        "outputId": "d9fae7ec-8654-4031-82ca-4110f71d5dba"
      },
      "outputs": [
        {
          "data": {
            "text/plain": [
              "Text(0.5, 1.0, '2nd dem of 2-dem')"
            ]
          },
          "execution_count": 40,
          "metadata": {},
          "output_type": "execute_result"
        },
        {
          "data": {
            "image/png": "[encoded data removed]",
            "text/plain": [
              "<Figure size 432x288 with 1 Axes>"
            ]
          },
          "metadata": {},
          "output_type": "display_data"
        }
      ],
      "source": [
        "plt.scatter(l,t3)\n",
        "plt.xlabel('lag')\n",
        "plt.ylabel('autocorrelation')\n",
        "plt.title('2nd dem of 2-dem')"
      ]
    },
    {
      "cell_type": "code",
      "execution_count": null,
      "metadata": {
        "colab": {
          "base_uri": "https://localhost:8080/",
          "height": 312
        },
        "id": "45TbpQ_ydLpP",
        "outputId": "df392903-31e0-42b1-f5f1-c62e37a16a68"
      },
      "outputs": [
        {
          "data": {
            "text/plain": [
              "Text(0.5, 1.0, '2nd dem of 2-dem')"
            ]
          },
          "execution_count": 41,
          "metadata": {},
          "output_type": "execute_result"
        },
        {
          "data": {
            "image/png": "[encoded data removed]",
            "text/plain": [
              "<Figure size 432x288 with 1 Axes>"
            ]
          },
          "metadata": {},
          "output_type": "display_data"
        }
      ],
      "source": [
        "plt.scatter(l,t4)\n",
        "plt.xlabel('lag')\n",
        "plt.ylabel('autocorrelation')\n",
        "plt.title('2nd dem of 2-dem')"
      ]
    }
  ],
  "metadata": {
    "colab": {
      "collapsed_sections": [],
      "name": "PDE.ipynb",
      "provenance": []
    },
    "kernelspec": {
      "display_name": "Python 3",
      "name": "python3"
    },
    "language_info": {
      "name": "python"
    }
  },
  "nbformat": 4,
  "nbformat_minor": 0
}