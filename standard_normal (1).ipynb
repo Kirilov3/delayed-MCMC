{
  "cells": [
    {
      "cell_type": "code",
      "execution_count": null,
      "metadata": {
        "id": "c9858512"
      },
      "outputs": [],
      "source": [
        "import numpy as np\n",
        "import matplotlib.pyplot as plt\n",
        "import scipy.stats as st\n",
        "import datetime\n",
        "import statsmodels.api as sm\n",
        "import matplotlib.pyplot as plt"
      ],
      "id": "c9858512"
    },
    {
      "cell_type": "code",
      "source": [
        "from google.colab import files"
      ],
      "metadata": {
        "id": "xbIxUmLuGf-C"
      },
      "id": "xbIxUmLuGf-C",
      "execution_count": null,
      "outputs": []
    },
    {
      "cell_type": "code",
      "execution_count": null,
      "metadata": {
        "colab": {
          "base_uri": "https://localhost:8080/"
        },
        "id": "dad0b299",
        "outputId": "55d2260e-8d33-4f76-817b-725f3615ef50"
      },
      "outputs": [
        {
          "output_type": "stream",
          "name": "stdout",
          "text": [
            "reject probablity: 0.295879\n",
            "0:07:01.781199\n"
          ]
        }
      ],
      "source": [
        "def Metropolis(m, f, g, sigm):\n",
        "    k = 0\n",
        "    x = np.zeros(m)\n",
        "    u = np.random.rand(m)\n",
        "    x[0] = g.rvs(0, scale=sigm)\n",
        "\n",
        "    for i in range(1, m):\n",
        "        xt = x[i-1]\n",
        "        y = g.rvs(loc=xt, scale=sigm)\n",
        "        num = f.pdf(y) * g.pdf(xt, loc=y, scale=sigm)\n",
        "        den = f.pdf(xt) * g.pdf(y, loc=xt, scale=sigm)                       \n",
        "        if u[i] <= min(1,num / den):\n",
        "            x[i] = y\n",
        "        else:\n",
        "            x[i] = xt\n",
        "            k += 1\n",
        "    print('reject probablity: ' + str(k / m))\n",
        "\n",
        "    return  x\n",
        "m = 1000000\n",
        "f = st.norm\n",
        "g = st.norm\n",
        "start = datetime.datetime.now()\n",
        "x = Metropolis(m, f, g, 1)\n",
        "print(datetime.datetime.now()-start)"
      ],
      "id": "dad0b299"
    },
    {
      "cell_type": "code",
      "source": [
        "np.var(x)"
      ],
      "metadata": {
        "colab": {
          "base_uri": "https://localhost:8080/"
        },
        "id": "cey_5VVVmOBM",
        "outputId": "4344df88-ee55-44e1-8080-78fbc23ea048"
      },
      "id": "cey_5VVVmOBM",
      "execution_count": null,
      "outputs": [
        {
          "output_type": "execute_result",
          "data": {
            "text/plain": [
              "1.0416107076470242"
            ]
          },
          "metadata": {},
          "execution_count": 5
        }
      ]
    },
    {
      "cell_type": "code",
      "execution_count": null,
      "metadata": {
        "colab": {
          "base_uri": "https://localhost:8080/",
          "height": 300
        },
        "id": "1cd5abc7",
        "outputId": "85aa2624-cfc8-4a69-a9ef-615e50fce12d"
      },
      "outputs": [
        {
          "output_type": "stream",
          "name": "stdout",
          "text": [
            "[-0.66505031  0.43665096  0.43665096 ...  0.90207175  0.73010036\n",
            "  0.73010036]\n"
          ]
        },
        {
          "output_type": "display_data",
          "data": {
            "text/plain": [
              "<IPython.core.display.Javascript object>"
            ],
            "application/javascript": [
              "\n",
              "    async function download(id, filename, size) {\n",
              "      if (!google.colab.kernel.accessAllowed) {\n",
              "        return;\n",
              "      }\n",
              "      const div = document.createElement('div');\n",
              "      const label = document.createElement('label');\n",
              "      label.textContent = `Downloading \"${filename}\": `;\n",
              "      div.appendChild(label);\n",
              "      const progress = document.createElement('progress');\n",
              "      progress.max = size;\n",
              "      div.appendChild(progress);\n",
              "      document.body.appendChild(div);\n",
              "\n",
              "      const buffers = [];\n",
              "      let downloaded = 0;\n",
              "\n",
              "      const channel = await google.colab.kernel.comms.open(id);\n",
              "      // Send a message to notify the kernel that we're ready.\n",
              "      channel.send({})\n",
              "\n",
              "      for await (const message of channel.messages) {\n",
              "        // Send a message to notify the kernel that we're ready.\n",
              "        channel.send({})\n",
              "        if (message.buffers) {\n",
              "          for (const buffer of message.buffers) {\n",
              "            buffers.push(buffer);\n",
              "            downloaded += buffer.byteLength;\n",
              "            progress.value = downloaded;\n",
              "          }\n",
              "        }\n",
              "      }\n",
              "      const blob = new Blob(buffers, {type: 'application/binary'});\n",
              "      const a = document.createElement('a');\n",
              "      a.href = window.URL.createObjectURL(blob);\n",
              "      a.download = filename;\n",
              "      div.appendChild(a);\n",
              "      a.click();\n",
              "      div.remove();\n",
              "    }\n",
              "  "
            ]
          },
          "metadata": {}
        },
        {
          "output_type": "display_data",
          "data": {
            "text/plain": [
              "<IPython.core.display.Javascript object>"
            ],
            "application/javascript": [
              "download(\"download_71b68cc0-1ab7-464a-a237-c3e10eb14eff\", \"MH_traj_norm.png\", 16445)"
            ]
          },
          "metadata": {}
        },
        {
          "output_type": "display_data",
          "data": {
            "text/plain": [
              "<Figure size 432x288 with 1 Axes>"
            ],
            "image/png": "[encoded data removed]"
          },
          "metadata": {
            "needs_background": "light"
          }
        }
      ],
      "source": [
        "print(x)\n",
        "\n",
        "plt.plot(np.arange(1,m+1),x)\n",
        "plt.savefig(\"MH_traj_norm.png\")\n",
        "files.download(\"MH_traj_norm.png\") \n",
        "plt.show()"
      ],
      "id": "1cd5abc7"
    },
    {
      "cell_type": "code",
      "execution_count": null,
      "metadata": {
        "colab": {
          "base_uri": "https://localhost:8080/",
          "height": 320
        },
        "id": "d13dd068",
        "outputId": "32367e88-9926-4f83-97e7-245385272aa7"
      },
      "outputs": [
        {
          "output_type": "stream",
          "name": "stderr",
          "text": [
            "/usr/local/lib/python3.7/dist-packages/ipykernel_launcher.py:3: VisibleDeprecationWarning: Passing `normed=True` on non-uniform bins has always been broken, and computes neither the probability density function nor the probability mass function. The result is only correct if the bins are uniform, when density=True will produce the same result anyway. The argument will be removed in a future version of numpy.\n",
            "  This is separate from the ipykernel package so we can avoid doing imports until\n"
          ]
        },
        {
          "output_type": "display_data",
          "data": {
            "text/plain": [
              "<IPython.core.display.Javascript object>"
            ],
            "application/javascript": [
              "\n",
              "    async function download(id, filename, size) {\n",
              "      if (!google.colab.kernel.accessAllowed) {\n",
              "        return;\n",
              "      }\n",
              "      const div = document.createElement('div');\n",
              "      const label = document.createElement('label');\n",
              "      label.textContent = `Downloading \"${filename}\": `;\n",
              "      div.appendChild(label);\n",
              "      const progress = document.createElement('progress');\n",
              "      progress.max = size;\n",
              "      div.appendChild(progress);\n",
              "      document.body.appendChild(div);\n",
              "\n",
              "      const buffers = [];\n",
              "      let downloaded = 0;\n",
              "\n",
              "      const channel = await google.colab.kernel.comms.open(id);\n",
              "      // Send a message to notify the kernel that we're ready.\n",
              "      channel.send({})\n",
              "\n",
              "      for await (const message of channel.messages) {\n",
              "        // Send a message to notify the kernel that we're ready.\n",
              "        channel.send({})\n",
              "        if (message.buffers) {\n",
              "          for (const buffer of message.buffers) {\n",
              "            buffers.push(buffer);\n",
              "            downloaded += buffer.byteLength;\n",
              "            progress.value = downloaded;\n",
              "          }\n",
              "        }\n",
              "      }\n",
              "      const blob = new Blob(buffers, {type: 'application/binary'});\n",
              "      const a = document.createElement('a');\n",
              "      a.href = window.URL.createObjectURL(blob);\n",
              "      a.download = filename;\n",
              "      div.appendChild(a);\n",
              "      a.click();\n",
              "      div.remove();\n",
              "    }\n",
              "  "
            ]
          },
          "metadata": {}
        },
        {
          "output_type": "display_data",
          "data": {
            "text/plain": [
              "<IPython.core.display.Javascript object>"
            ],
            "application/javascript": [
              "download(\"download_0886041a-5f30-471d-ac39-d534241fc9fc\", \"Distribution_compare.png\", 17621)"
            ]
          },
          "metadata": {}
        },
        {
          "output_type": "display_data",
          "data": {
            "text/plain": [
              "<Figure size 432x288 with 1 Axes>"
            ],
            "image/png": "[encoded data removed]"
          },
          "metadata": {
            "needs_background": "light"
          }
        }
      ],
      "source": [
        "tick = np.arange(x.min(), x.max(), 0.001)\n",
        "plt.plot(tick, f.pdf(tick),label='Actual Distribution')\n",
        "p, y = np.histogram(x, bins=100,normed='true')\n",
        "y = (y[:-1] + y[1:])/2\n",
        "plt.plot(y, p,label='Simulated Distribution') \n",
        "plt.legend()\n",
        "plt.savefig(\"Distribution_compare.png\")\n",
        "files.download(\"Distribution_compare.png\") \n",
        "plt.show()"
      ],
      "id": "d13dd068"
    },
    {
      "cell_type": "code",
      "source": [
        "t = sm.tsa.acf(x)\n",
        "print(t)\n",
        "l = np.arange(len(t))\n",
        "plt.scatter(l,t)\n",
        "plt.xlabel('lag')\n",
        "plt.ylabel('autocorrelation')\n",
        "plt.legend\n",
        "plt.savefig(\"Autocorelation2.png\")\n",
        "files.download(\"Autocorelation2.png\") \n",
        "plt.show()"
      ],
      "metadata": {
        "colab": {
          "base_uri": "https://localhost:8080/",
          "height": 455
        },
        "id": "8FowagZNb26g",
        "outputId": "6b6d7dd7-ccc6-4657-cf16-520478e94cd5"
      },
      "id": "8FowagZNb26g",
      "execution_count": null,
      "outputs": [
        {
          "output_type": "stream",
          "name": "stderr",
          "text": [
            "/usr/local/lib/python3.7/dist-packages/statsmodels/tsa/stattools.py:541: FutureWarning: fft=True will become the default in a future version of statsmodels. To suppress this warning, explicitly set fft=False.\n",
            "  warnings.warn(msg, FutureWarning)\n"
          ]
        },
        {
          "output_type": "stream",
          "name": "stdout",
          "text": [
            "[ 1.          0.77446384  0.59651521  0.46083697  0.35868287  0.27811739\n",
            "  0.20967002  0.16390971  0.12615433  0.09603194  0.07559153  0.05434374\n",
            "  0.03139447  0.01111631 -0.00731354 -0.0197573  -0.02434446 -0.02352007\n",
            " -0.02441625 -0.02801802 -0.03296006 -0.03379947 -0.02939439 -0.02784621\n",
            " -0.01762476 -0.00972893  0.00274498  0.01543581  0.01392647  0.01454945\n",
            "  0.02600041  0.03325737  0.03204186  0.03444628  0.03955473  0.0437498\n",
            "  0.04695477  0.05009648  0.0514165   0.05223774  0.05260199]\n"
          ]
        },
        {
          "output_type": "display_data",
          "data": {
            "text/plain": [
              "<IPython.core.display.Javascript object>"
            ],
            "application/javascript": [
              "\n",
              "    async function download(id, filename, size) {\n",
              "      if (!google.colab.kernel.accessAllowed) {\n",
              "        return;\n",
              "      }\n",
              "      const div = document.createElement('div');\n",
              "      const label = document.createElement('label');\n",
              "      label.textContent = `Downloading \"${filename}\": `;\n",
              "      div.appendChild(label);\n",
              "      const progress = document.createElement('progress');\n",
              "      progress.max = size;\n",
              "      div.appendChild(progress);\n",
              "      document.body.appendChild(div);\n",
              "\n",
              "      const buffers = [];\n",
              "      let downloaded = 0;\n",
              "\n",
              "      const channel = await google.colab.kernel.comms.open(id);\n",
              "      // Send a message to notify the kernel that we're ready.\n",
              "      channel.send({})\n",
              "\n",
              "      for await (const message of channel.messages) {\n",
              "        // Send a message to notify the kernel that we're ready.\n",
              "        channel.send({})\n",
              "        if (message.buffers) {\n",
              "          for (const buffer of message.buffers) {\n",
              "            buffers.push(buffer);\n",
              "            downloaded += buffer.byteLength;\n",
              "            progress.value = downloaded;\n",
              "          }\n",
              "        }\n",
              "      }\n",
              "      const blob = new Blob(buffers, {type: 'application/binary'});\n",
              "      const a = document.createElement('a');\n",
              "      a.href = window.URL.createObjectURL(blob);\n",
              "      a.download = filename;\n",
              "      div.appendChild(a);\n",
              "      a.click();\n",
              "      div.remove();\n",
              "    }\n",
              "  "
            ]
          },
          "metadata": {}
        },
        {
          "output_type": "display_data",
          "data": {
            "text/plain": [
              "<IPython.core.display.Javascript object>"
            ],
            "application/javascript": [
              "download(\"download_6c647f4d-12fc-40dc-ad10-bf94de1e7a77\", \"Autocorelation2.png\", 8647)"
            ]
          },
          "metadata": {}
        },
        {
          "output_type": "display_data",
          "data": {
            "text/plain": [
              "<Figure size 432x288 with 1 Axes>"
            ],
            "image/png": "[encoded data removed]"
          },
          "metadata": {
            "needs_background": "light"
          }
        }
      ]
    },
    {
      "cell_type": "code",
      "execution_count": null,
      "metadata": {
        "colab": {
          "base_uri": "https://localhost:8080/",
          "height": 347
        },
        "id": "d44161e3",
        "outputId": "22a940f9-1efd-4e8c-9d60-c74475c8cc24"
      },
      "outputs": [
        {
          "output_type": "stream",
          "name": "stdout",
          "text": [
            "199945\n",
            "94793\n",
            "705262\n",
            "0:12:31.004516\n"
          ]
        },
        {
          "output_type": "display_data",
          "data": {
            "text/plain": [
              "<Figure size 432x288 with 1 Axes>"
            ],
            "image/png": "[encoded data removed]"
          },
          "metadata": {
            "needs_background": "light"
          }
        }
      ],
      "source": [
        "###### algorithm 1\n",
        "def algorithm1(m, f, g, sigm):  # f target / g proposal \n",
        "    k = 0          #\n",
        "    x = np.zeros(m)  \n",
        "    x[0] = g.rvs(0, scale=sigm) # pick an initial value of the walk \n",
        "    j = 0      ### reject in step 2\n",
        "\n",
        "    for i in range(1, m):\n",
        "        xt = x[i-1]  \n",
        "        y = g.rvs(loc=xt, scale=sigm)\n",
        "        num = f.pdf(y,scale=np.sqrt(2)) * g.pdf(xt, loc=y, scale=sigm)  # where the np.sqrt(2) is f*\n",
        "        den = f.pdf(xt,scale=np.sqrt(2)) * g.pdf(y, loc=xt, scale=sigm)  \n",
        "        #print(num/den)      \n",
        "        g2 = min(1,num/den)   # step2 of the alorightm\n",
        "        u = np.random.rand(1)\n",
        "        if u > g2:           # if not pass step2, no more calcu, x_t+1 = x_t\n",
        "            x[i] = xt\n",
        "            j += 1\n",
        "        else:\n",
        "            g3 = min(1,den/num)\n",
        "            num = f.pdf(y) * g.pdf(xt, loc=y, scale=sigm) * g3   \n",
        "            den = f.pdf(xt) * g.pdf(y, loc=xt, scale=sigm) * g2\n",
        "            rol = min(1,num/den)   # step 3, acceptance rate\n",
        "            #print(num/den)\n",
        "            v = np.random.rand(1)\n",
        "            if v <= rol:      # if pass the step 3\n",
        "                x[i] = y\n",
        "            else: \n",
        "                x[i] = xt        # reject \n",
        "                k += 1          #reject in step 3\n",
        "        \n",
        "    #print('reject probablity: ' + str(k / m))\n",
        "    print(j)\n",
        "    print(k)\n",
        "    print(m-j-k)\n",
        "    return  x\n",
        "m = 1000000\n",
        "f = st.norm\n",
        "g = st.norm\n",
        "start = datetime.datetime.now()\n",
        "x2 = algorithm1(m, f, g, 1)\n",
        "print(datetime.datetime.now()-start)\n",
        "plt.plot(np.arange(1,m+1),x2)\n",
        "#plt.savefig(\"A1_traj_norm.png\")\n",
        "#files.download(\"A1_traj_norm.png\") \n",
        "plt.show()\n",
        "\n",
        "\n",
        "# the reject rate is lower, but the result is not so good... i have no idea about it"
      ],
      "id": "d44161e3"
    },
    {
      "cell_type": "code",
      "source": [
        "np.var(x2)"
      ],
      "metadata": {
        "colab": {
          "base_uri": "https://localhost:8080/"
        },
        "id": "LQ-019aGmppi",
        "outputId": "595fec33-1cb3-4166-a125-bf9893a62e8b"
      },
      "id": "LQ-019aGmppi",
      "execution_count": null,
      "outputs": [
        {
          "output_type": "execute_result",
          "data": {
            "text/plain": [
              "0.678144996797899"
            ]
          },
          "metadata": {},
          "execution_count": 5
        }
      ]
    },
    {
      "cell_type": "code",
      "source": [
        "plt.plot(np.arange(1,m+1),x2)\n",
        "plt.savefig(\"MH_traj_norm.png\")\n",
        "files.download(\"MH_traj_norm.png\") \n",
        "plt.show()"
      ],
      "metadata": {
        "colab": {
          "base_uri": "https://localhost:8080/",
          "height": 265
        },
        "id": "u2jY8dyhiSRZ",
        "outputId": "09fc0674-9c84-484e-fc87-851a59de2315"
      },
      "id": "u2jY8dyhiSRZ",
      "execution_count": null,
      "outputs": [
        {
          "output_type": "display_data",
          "data": {
            "text/plain": [
              "<IPython.core.display.Javascript object>"
            ],
            "application/javascript": [
              "\n",
              "    async function download(id, filename, size) {\n",
              "      if (!google.colab.kernel.accessAllowed) {\n",
              "        return;\n",
              "      }\n",
              "      const div = document.createElement('div');\n",
              "      const label = document.createElement('label');\n",
              "      label.textContent = `Downloading \"${filename}\": `;\n",
              "      div.appendChild(label);\n",
              "      const progress = document.createElement('progress');\n",
              "      progress.max = size;\n",
              "      div.appendChild(progress);\n",
              "      document.body.appendChild(div);\n",
              "\n",
              "      const buffers = [];\n",
              "      let downloaded = 0;\n",
              "\n",
              "      const channel = await google.colab.kernel.comms.open(id);\n",
              "      // Send a message to notify the kernel that we're ready.\n",
              "      channel.send({})\n",
              "\n",
              "      for await (const message of channel.messages) {\n",
              "        // Send a message to notify the kernel that we're ready.\n",
              "        channel.send({})\n",
              "        if (message.buffers) {\n",
              "          for (const buffer of message.buffers) {\n",
              "            buffers.push(buffer);\n",
              "            downloaded += buffer.byteLength;\n",
              "            progress.value = downloaded;\n",
              "          }\n",
              "        }\n",
              "      }\n",
              "      const blob = new Blob(buffers, {type: 'application/binary'});\n",
              "      const a = document.createElement('a');\n",
              "      a.href = window.URL.createObjectURL(blob);\n",
              "      a.download = filename;\n",
              "      div.appendChild(a);\n",
              "      a.click();\n",
              "      div.remove();\n",
              "    }\n",
              "  "
            ]
          },
          "metadata": {}
        },
        {
          "output_type": "display_data",
          "data": {
            "text/plain": [
              "<IPython.core.display.Javascript object>"
            ],
            "application/javascript": [
              "download(\"download_da30024a-af05-4c62-a44e-5f8e574dc03e\", \"MH_traj_norm.png\", 16760)"
            ]
          },
          "metadata": {}
        },
        {
          "output_type": "display_data",
          "data": {
            "text/plain": [
              "<Figure size 432x288 with 1 Axes>"
            ],
            "image/png": "[encoded data removed]"
          },
          "metadata": {
            "needs_background": "light"
          }
        }
      ]
    },
    {
      "cell_type": "code",
      "execution_count": null,
      "metadata": {
        "colab": {
          "base_uri": "https://localhost:8080/",
          "height": 320
        },
        "id": "08919eda",
        "outputId": "7e2590db-c456-4b35-a708-42f3c9587fa1"
      },
      "outputs": [
        {
          "output_type": "stream",
          "name": "stderr",
          "text": [
            "/usr/local/lib/python3.7/dist-packages/ipykernel_launcher.py:4: VisibleDeprecationWarning: Passing `normed=True` on non-uniform bins has always been broken, and computes neither the probability density function nor the probability mass function. The result is only correct if the bins are uniform, when density=True will produce the same result anyway. The argument will be removed in a future version of numpy.\n",
            "  after removing the cwd from sys.path.\n"
          ]
        },
        {
          "output_type": "display_data",
          "data": {
            "text/plain": [
              "<IPython.core.display.Javascript object>"
            ],
            "application/javascript": [
              "\n",
              "    async function download(id, filename, size) {\n",
              "      if (!google.colab.kernel.accessAllowed) {\n",
              "        return;\n",
              "      }\n",
              "      const div = document.createElement('div');\n",
              "      const label = document.createElement('label');\n",
              "      label.textContent = `Downloading \"${filename}\": `;\n",
              "      div.appendChild(label);\n",
              "      const progress = document.createElement('progress');\n",
              "      progress.max = size;\n",
              "      div.appendChild(progress);\n",
              "      document.body.appendChild(div);\n",
              "\n",
              "      const buffers = [];\n",
              "      let downloaded = 0;\n",
              "\n",
              "      const channel = await google.colab.kernel.comms.open(id);\n",
              "      // Send a message to notify the kernel that we're ready.\n",
              "      channel.send({})\n",
              "\n",
              "      for await (const message of channel.messages) {\n",
              "        // Send a message to notify the kernel that we're ready.\n",
              "        channel.send({})\n",
              "        if (message.buffers) {\n",
              "          for (const buffer of message.buffers) {\n",
              "            buffers.push(buffer);\n",
              "            downloaded += buffer.byteLength;\n",
              "            progress.value = downloaded;\n",
              "          }\n",
              "        }\n",
              "      }\n",
              "      const blob = new Blob(buffers, {type: 'application/binary'});\n",
              "      const a = document.createElement('a');\n",
              "      a.href = window.URL.createObjectURL(blob);\n",
              "      a.download = filename;\n",
              "      div.appendChild(a);\n",
              "      a.click();\n",
              "      div.remove();\n",
              "    }\n",
              "  "
            ]
          },
          "metadata": {}
        },
        {
          "output_type": "display_data",
          "data": {
            "text/plain": [
              "<IPython.core.display.Javascript object>"
            ],
            "application/javascript": [
              "download(\"download_3667d18a-808c-4a67-98fe-1a1770bbd60d\", \"new.png\", 20188)"
            ]
          },
          "metadata": {}
        },
        {
          "output_type": "display_data",
          "data": {
            "text/plain": [
              "<Figure size 432x288 with 1 Axes>"
            ],
            "image/png": "[encoded data removed]"
          },
          "metadata": {
            "needs_background": "light"
          }
        }
      ],
      "source": [
        "tick = np.arange(x2.min(), x2.max(), 0.001)\n",
        "plt.plot(tick, f.pdf(tick),label='$\\mathcal{N}(0,1)$')\n",
        "plt.plot(tick, f.pdf(tick,scale=np.sqrt(2)),label='$\\mathcal{N}(0,2)$')\n",
        "p, y = np.histogram(x2, bins=100,normed='true')\n",
        "y = (y[:-1] + y[1:])/2\n",
        "plt.plot(y, p,label='Simulated Distribution') \n",
        "plt.legend()\n",
        "plt.savefig(\"new.png\")\n",
        "files.download(\"new.png\") \n",
        "plt.show()"
      ],
      "id": "08919eda"
    },
    {
      "cell_type": "code",
      "execution_count": null,
      "metadata": {
        "colab": {
          "base_uri": "https://localhost:8080/",
          "height": 490
        },
        "id": "Sna69r7ypxgY",
        "outputId": "9a9bfe5d-a7d3-433d-e4ff-4179ad59b0bd"
      },
      "outputs": [
        {
          "output_type": "stream",
          "name": "stdout",
          "text": [
            "[ 1.          0.78565851  0.6208261   0.49655549  0.3917275   0.3056489\n",
            "  0.23635592  0.18823554  0.15259364  0.12452828  0.09884823  0.07235244\n",
            "  0.05326489  0.04533686  0.04143387  0.03980724  0.03421412  0.03221257\n",
            "  0.0312838   0.0297372   0.02589131  0.02511453  0.02221199  0.0204348\n",
            "  0.01897143  0.00986686 -0.00104588 -0.00774383 -0.00754904 -0.01142012\n",
            " -0.01556383 -0.0244971  -0.02084254 -0.01416328 -0.00891912 -0.00847694\n",
            " -0.01480927 -0.01533703 -0.02603952 -0.02781594 -0.03113892]\n"
          ]
        },
        {
          "output_type": "stream",
          "name": "stderr",
          "text": [
            "/usr/local/lib/python3.7/dist-packages/statsmodels/tsa/stattools.py:662: FutureWarning: The default number of lags is changing from 40 tomin(int(10 * np.log10(nobs)), nobs - 1) after 0.12is released. Set the number of lags to an integer to  silence this warning.\n",
            "  FutureWarning,\n",
            "/usr/local/lib/python3.7/dist-packages/statsmodels/tsa/stattools.py:671: FutureWarning: fft=True will become the default after the release of the 0.12 release of statsmodels. To suppress this warning, explicitly set fft=False.\n",
            "  FutureWarning,\n"
          ]
        },
        {
          "output_type": "display_data",
          "data": {
            "text/plain": [
              "<IPython.core.display.Javascript object>"
            ],
            "application/javascript": [
              "\n",
              "    async function download(id, filename, size) {\n",
              "      if (!google.colab.kernel.accessAllowed) {\n",
              "        return;\n",
              "      }\n",
              "      const div = document.createElement('div');\n",
              "      const label = document.createElement('label');\n",
              "      label.textContent = `Downloading \"${filename}\": `;\n",
              "      div.appendChild(label);\n",
              "      const progress = document.createElement('progress');\n",
              "      progress.max = size;\n",
              "      div.appendChild(progress);\n",
              "      document.body.appendChild(div);\n",
              "\n",
              "      const buffers = [];\n",
              "      let downloaded = 0;\n",
              "\n",
              "      const channel = await google.colab.kernel.comms.open(id);\n",
              "      // Send a message to notify the kernel that we're ready.\n",
              "      channel.send({})\n",
              "\n",
              "      for await (const message of channel.messages) {\n",
              "        // Send a message to notify the kernel that we're ready.\n",
              "        channel.send({})\n",
              "        if (message.buffers) {\n",
              "          for (const buffer of message.buffers) {\n",
              "            buffers.push(buffer);\n",
              "            downloaded += buffer.byteLength;\n",
              "            progress.value = downloaded;\n",
              "          }\n",
              "        }\n",
              "      }\n",
              "      const blob = new Blob(buffers, {type: 'application/binary'});\n",
              "      const a = document.createElement('a');\n",
              "      a.href = window.URL.createObjectURL(blob);\n",
              "      a.download = filename;\n",
              "      div.appendChild(a);\n",
              "      a.click();\n",
              "      div.remove();\n",
              "    }\n",
              "  "
            ]
          },
          "metadata": {}
        },
        {
          "output_type": "display_data",
          "data": {
            "text/plain": [
              "<IPython.core.display.Javascript object>"
            ],
            "application/javascript": [
              "download(\"download_3045f40a-095a-46dd-bfad-2388dcd3b499\", \"Autocorelation.png\", 8490)"
            ]
          },
          "metadata": {}
        },
        {
          "output_type": "display_data",
          "data": {
            "text/plain": [
              "<Figure size 432x288 with 1 Axes>"
            ],
            "image/png": "[encoded data removed]"
          },
          "metadata": {
            "needs_background": "light"
          }
        }
      ],
      "source": [
        "t = sm.tsa.acf(x2)\n",
        "print(t)\n",
        "l = np.arange(len(t))\n",
        "plt.scatter(l,t)\n",
        "plt.xlabel('lag')\n",
        "plt.ylabel('autocorrelation')\n",
        "plt.legend\n",
        "plt.savefig(\"Autocorelation.png\")\n",
        "files.download(\"Autocorelation.png\") \n",
        "plt.show()"
      ],
      "id": "Sna69r7ypxgY"
    },
    {
      "cell_type": "code",
      "execution_count": null,
      "metadata": {
        "colab": {
          "base_uri": "https://localhost:8080/"
        },
        "id": "_TvqDOhsYnwT",
        "outputId": "774cbd0a-1a09-4c92-d71b-0c3c5b4a5fcc"
      },
      "outputs": [
        {
          "output_type": "stream",
          "name": "stdout",
          "text": [
            "2035\n",
            "951\n",
            "7014\n",
            "2007\n",
            "989\n",
            "7004\n",
            "2028\n",
            "962\n",
            "7010\n",
            "2040\n",
            "960\n",
            "7000\n"
          ]
        }
      ],
      "source": [
        "x6 = algorithm1(m, f, g, 1)\n",
        "x3 = algorithm1(m, f, g, 1)\n",
        "x4 = algorithm1(m, f, g, 1)\n",
        "x5 = algorithm1(m, f, g, 1)"
      ],
      "id": "_TvqDOhsYnwT"
    },
    {
      "cell_type": "code",
      "execution_count": null,
      "metadata": {
        "colab": {
          "base_uri": "https://localhost:8080/"
        },
        "id": "wfhCiuk4ZNXF",
        "outputId": "b8337dbd-c9a5-4934-c49d-62b8112ed82d"
      },
      "outputs": [
        {
          "output_type": "stream",
          "name": "stdout",
          "text": [
            "-0.0008353446165493723\n",
            "1.0272882358726525\n",
            "0.9734852186357841 1.0343924775625186 1.0677144222522927 1.011943710317953 1.0242156814394043\n"
          ]
        },
        {
          "output_type": "execute_result",
          "data": {
            "text/plain": [
              "1.0000005366646967"
            ]
          },
          "metadata": {},
          "execution_count": 29
        }
      ],
      "source": [
        "D= 1000\n",
        "J =5\n",
        "L =9000\n",
        "x2 = x2[D:]\n",
        "x3 = x3[D:]\n",
        "x4 = x4[D:]\n",
        "x5 = x5[D:]\n",
        "x6 = x6[D:]   # discard 1st 1000 values\n",
        "\n",
        "x_2 = np.mean(x2)\n",
        "x_3 = np.mean(x3)\n",
        "x_4 = np.mean(x4)\n",
        "x_5 = np.mean(x5)\n",
        "x_6 = np.mean(x6) # for each chain, calcu their mean \n",
        "xd = (x_2+x_3+x_4+x_5+x_6)/5  # grand mean \n",
        "print(xd)\n",
        "B = L*((x_2-xd)**2+(x_3-xd)**2+(x_4-xd)**2+(x_5-xd)**2+(x_6-xd)**2)/(J-1)   # between chain variance \n",
        "print(B)\n",
        "s2 = np.std(x2)**2\n",
        "s3 = np.std(x3)**2\n",
        "s4 = np.std(x4)**2\n",
        "s5 = np.std(x5)**2\n",
        "s6 = np.std(x6)**2     # within chain variance \n",
        "print(s2,s3,s4,s5,s6)\n",
        "W = (s2+s3+s4+s5+s6)/5\n",
        "R= (L-1)*W/L+B/L\n",
        "R=R/W\n",
        "R   #GR stats \n",
        "# R is close to 1, so it cv "
      ],
      "id": "wfhCiuk4ZNXF"
    },
    {
      "cell_type": "code",
      "source": [
        "a = 0.6781937133873419+0.6485415121559217+0.6856403282948453+0.6857123711736434+0.6460675593478008\n",
        "a/5"
      ],
      "metadata": {
        "colab": {
          "base_uri": "https://localhost:8080/"
        },
        "id": "zp1xZGy-OMCs",
        "outputId": "8338074e-3d3d-4ea2-e6bb-2966ed397fe9"
      },
      "id": "zp1xZGy-OMCs",
      "execution_count": null,
      "outputs": [
        {
          "output_type": "execute_result",
          "data": {
            "text/plain": [
              "0.6688310968719107"
            ]
          },
          "metadata": {},
          "execution_count": 9
        }
      ]
    },
    {
      "cell_type": "code",
      "execution_count": null,
      "metadata": {
        "id": "XH7HTlpyINlI"
      },
      "outputs": [],
      "source": [
        "def finite(kappa,h):   #dem=9\n",
        "  dem = int(1/h - 1)\n",
        "  b = np.linspace(0,1,int(1/h)+1)\n",
        "  b = b[1:]\n",
        "  b.pop()\n",
        "  A = np.zeros((dem,dem))\n",
        "  a = np.linspace(0,1,len(kappa)+1)\n",
        "  A[0,0] = -(4+2*kappa[0]/(h**2))\n",
        "  A[0,1] = kappa[0]/(h**2)\n",
        "  A[-1,-1] = -(4+2*kappa[-1]/(h**2))\n",
        "  A[-1,-2] = kappa[-1]/(h**2)\n",
        "  t = 0\n",
        "  for i in range(1,dem-1):\n",
        "    if i*h >= a[t] and i*h < a[t+1]:\n",
        "      A[i,i] = -(4+2*kappa[t]/(h**2))\n",
        "      A[i,i-1] = kappa[t]/(h**2) \n",
        "      A[i,i+1] = kappa[t]/(h**2) \n",
        "    else:\n",
        "      t += 1\n",
        "      A[i,i] = -(4+2*kappa[t]/(h**2))\n",
        "      A[i,i-1] = kappa[t]/(h**2) \n",
        "      A[i,i+1] = kappa[t]/(h**2)\n",
        "  ans = np.linalg.inv(A)@b\n",
        "  x = []\n",
        "  for i in range(len(ans)):\n",
        "    if i*h in a:\n",
        "      x.append(ans[i])\n",
        "  return np.array(x)\n",
        "\n",
        "\n"
      ],
      "id": "XH7HTlpyINlI"
    },
    {
      "cell_type": "code",
      "execution_count": null,
      "metadata": {
        "id": "f2ed2fea"
      },
      "outputs": [],
      "source": [
        "def multilognorm(x):\n",
        "  ans = 1\n",
        "  for i in range(len(x)):\n",
        "    ans *= np.exp(-np.log(x[i])**2/2)/(x[i]*np.sqrt(2*np.pi))\n",
        "  return ans\n",
        "\n",
        "def norm(x):\n",
        "  ans = 1 \n",
        "  for i in range(len(x)):\n",
        "    ans *= np.exp(-(x[i])**2/2)/np.sqrt(2*np.pi)\n",
        "  return ans\n"
      ],
      "id": "f2ed2fea"
    },
    {
      "cell_type": "code",
      "execution_count": null,
      "metadata": {
        "id": "7Yk_95r0I4DQ"
      },
      "outputs": [],
      "source": [
        "def MH(m,d,h):\n",
        "  x = np.zeros((m,d))\n",
        "  k = 0\n",
        "  x[0] = np.random.normal(0,1,d)\n",
        "  e = np.random.lognormal(0,1,d)\n",
        "  print(e)\n",
        "  data = finite(e,h) \n",
        " \n",
        "  for j in range(1,m):\n",
        "    xt = x[j-1]\n",
        "    y = xt+np.random.normal(0,0.06,d)\n",
        "    s = np.random.rand(1)\n",
        "    u = finite(np.exp(xt),h)\n",
        "  \n",
        "    v = finite(np.exp(y),h)\n",
        "\n",
        "    #r = multilognorm(np.exp(y))*np.exp((-np.linalg.norm(data-v))**2/2*10*(-5))/(multilognorm(np.exp(xt))*np.exp((-np.linalg.norm(data-u))**2/2*10*(-5)))\n",
        "    ratio = np.log(multilognorm(np.exp(y)))-np.log(multilognorm(np.exp(xt)))+((np.linalg.norm(data-u))**2)/(2*10**(-5))-((np.linalg.norm(data-v))**2)/(2*10**(-5))\n",
        "                                # multilognorm is a function that I write to calcu the value of prior\n",
        "                             \n",
        "    \n",
        "    if s <= min(1,np.exp(ratio)):\n",
        "      x[j] = y\n",
        "    else:\n",
        "      x[j] = xt\n",
        "      k+=1\n",
        "  print('reject probablity: ' + str(k / m))\n",
        "  x = np.exp(x)\n",
        "  \n",
        "  return x"
      ],
      "id": "7Yk_95r0I4DQ"
    },
    {
      "cell_type": "code",
      "execution_count": null,
      "metadata": {
        "colab": {
          "base_uri": "https://localhost:8080/"
        },
        "id": "cSz6QrtXQ80S",
        "outputId": "c04c075f-2080-4038-d609-42c0c03ebab9"
      },
      "outputs": [
        {
          "name": "stdout",
          "output_type": "stream",
          "text": [
            "[0.98308889 0.08663596]\n"
          ]
        },
        {
          "name": "stderr",
          "output_type": "stream",
          "text": [
            "/usr/local/lib/python3.7/dist-packages/ipykernel_launcher.py:22: RuntimeWarning: overflow encountered in exp\n"
          ]
        },
        {
          "name": "stdout",
          "output_type": "stream",
          "text": [
            "reject probablity: 0.713233\n",
            "0:08:50.878170\n"
          ]
        }
      ],
      "source": [
        "start = datetime.datetime.now()\n",
        "x2 = MH(1000000,2,0.1)\n",
        "print(datetime.datetime.now()-start)"
      ],
      "id": "cSz6QrtXQ80S"
    },
    {
      "cell_type": "code",
      "execution_count": null,
      "metadata": {
        "colab": {
          "base_uri": "https://localhost:8080/",
          "height": 300
        },
        "id": "vU9_MAelpK7l",
        "outputId": "3de17bc1-b47a-4b9d-b41a-5de211e8c08f"
      },
      "outputs": [
        {
          "data": {
            "text/plain": [
              "[<matplotlib.lines.Line2D at 0x7f105009ed50>,\n",
              " <matplotlib.lines.Line2D at 0x7f105009ef90>]"
            ]
          },
          "execution_count": 47,
          "metadata": {},
          "output_type": "execute_result"
        },
        {
          "data": {
            "image/png": "[encoded data removed]",
            "text/plain": [
              "<Figure size 432x288 with 1 Axes>"
            ]
          },
          "metadata": {},
          "output_type": "display_data"
        }
      ],
      "source": [
        "plt.plot(np.arange(1,100000+1),x2)"
      ],
      "id": "vU9_MAelpK7l"
    },
    {
      "cell_type": "code",
      "execution_count": null,
      "metadata": {
        "colab": {
          "base_uri": "https://localhost:8080/"
        },
        "id": "K9osF1-uNWrS",
        "outputId": "4dc3fc81-e874-4d53-a091-97fbc04f1c96"
      },
      "outputs": [
        {
          "data": {
            "text/plain": [
              "array([0.99594921, 0.08739862])"
            ]
          },
          "execution_count": 50,
          "metadata": {},
          "output_type": "execute_result"
        }
      ],
      "source": [
        "x_mean = np.mean(x2,axis = 0)\n",
        "x_mean"
      ],
      "id": "K9osF1-uNWrS"
    },
    {
      "cell_type": "code",
      "execution_count": null,
      "metadata": {
        "colab": {
          "background_save": true,
          "base_uri": "https://localhost:8080/"
        },
        "id": "o7-Hw8-Wd6NN",
        "outputId": "4f18f407-c526-421d-ae48-b4bc7bcebd9b"
      },
      "outputs": [
        {
          "name": "stderr",
          "output_type": "stream",
          "text": [
            "/usr/local/lib/python3.7/dist-packages/statsmodels/tsa/stattools.py:541: FutureWarning: fft=True will become the default in a future version of statsmodels. To suppress this warning, explicitly set fft=False.\n",
            "  warnings.warn(msg, FutureWarning)\n"
          ]
        }
      ],
      "source": [
        "t0 = sm.tsa.acf(x2[:,0])\n",
        "t1 = sm.tsa.acf(x2[:,1])"
      ],
      "id": "o7-Hw8-Wd6NN"
    },
    {
      "cell_type": "code",
      "execution_count": null,
      "metadata": {
        "colab": {
          "background_save": true
        },
        "id": "kNozKXodjY7M",
        "outputId": "e457710a-cb30-4f7f-c7fb-ea0eb0930c1c"
      },
      "outputs": [
        {
          "name": "stdout",
          "output_type": "stream",
          "text": [
            "[1.         0.99822825 0.99646383 0.99470838 0.99295425 0.99119882\n",
            " 0.98942831 0.98766362 0.98589915 0.98413862 0.98238235 0.98063026\n",
            " 0.97887303 0.97710739 0.97536272 0.97360222 0.97183825 0.97006535\n",
            " 0.96829826 0.96653712 0.96478269 0.96301801 0.96124686 0.95947392\n",
            " 0.95769084 0.95591298 0.95414705 0.95238075 0.95062251 0.94886228\n",
            " 0.94709751 0.94534202 0.94358127 0.9418279  0.94007761 0.93832488\n",
            " 0.93656948 0.93482618 0.93309753 0.93137689 0.92966937]\n",
            "[1.         0.89208868 0.81749652 0.76507526 0.72738054 0.70108933\n",
            " 0.68170903 0.66664475 0.65447467 0.64441976 0.63641242 0.62902726\n",
            " 0.62347239 0.61880586 0.614609   0.61069468 0.60709366 0.60349974\n",
            " 0.59998433 0.59593586 0.59201324 0.58799631 0.58372725 0.5800933\n",
            " 0.57651176 0.57337186 0.57015125 0.56679218 0.56347191 0.55986959\n",
            " 0.55704379 0.554369   0.55163604 0.54948148 0.54728721 0.54537112\n",
            " 0.54364799 0.54175218 0.5399032  0.53787655 0.53567546]\n"
          ]
        }
      ],
      "source": [
        "print(t0)\n",
        "print(t1)"
      ],
      "id": "kNozKXodjY7M"
    },
    {
      "cell_type": "code",
      "execution_count": null,
      "metadata": {
        "colab": {
          "background_save": true
        },
        "id": "DlI4V_mE9PPQ",
        "outputId": "fb5d18b4-c732-4cf5-c5e2-9da063b8cdb7"
      },
      "outputs": [
        {
          "name": "stdout",
          "output_type": "stream",
          "text": [
            "[3.16654217 0.84381089]\n"
          ]
        }
      ],
      "source": [
        "#### gelman-rubin\n",
        "x6 = MH(1000000,2,0.01)\n",
        "x3 = MH(1000000,2,0.01)\n",
        "x4 = MH(1000000,2,0.01)\n",
        "x5 = MH(1000000,2,0.01)\n",
        "D= 100000\n",
        "J =5\n",
        "L =1000000-10000\n",
        "x2 = x2[D:]\n",
        "x3 = x3[D:]\n",
        "x4 = x4[D:]\n",
        "x5 = x5[D:]\n",
        "x6 = x6[D:]   # discard 1st 1000 values\n",
        "x_2 = np.mean(x2)\n",
        "x_3 = np.mean(x3)\n",
        "x_4 = np.mean(x4)\n",
        "x_5 = np.mean(x5)\n",
        "x_6 = np.mean(x6) # for each chain, calcu their mean \n",
        "xd = (x_2+x_3+x_4+x_5+x_6)/5  # grand mean \n",
        "\n",
        "B = L*((x_2-xd)**2+(x_3-xd)**2+(x_4-xd)**2+(x_5-xd)**2+(x_6-xd)**2)/(J-1)   # between chain variance \n",
        "\n",
        "s2 = np.std(x2)**2\n",
        "s3 = np.std(x3)**2\n",
        "s4 = np.std(x4)**2\n",
        "s5 = np.std(x5)**2\n",
        "s6 = np.std(x6)**2     # within chain variance \n",
        "\n",
        "W = (s2+s3+s4+s5+s6)/5\n",
        "print(W)\n",
        "R= (L-1)*W/L+B/L\n",
        "R=R/W\n",
        "R   #GR stats "
      ],
      "id": "DlI4V_mE9PPQ"
    },
    {
      "cell_type": "code",
      "execution_count": null,
      "metadata": {
        "id": "XccADJvyL241"
      },
      "outputs": [],
      "source": [
        "l = np.arange(len(t0))\n",
        "plt.scatter(l,t0)\n",
        "plt.xlabel('lag')\n",
        "plt.ylabel('autocorrelation')\n",
        "plt.title('1st dem of 2-dem')\n"
      ],
      "id": "XccADJvyL241"
    },
    {
      "cell_type": "code",
      "execution_count": null,
      "metadata": {
        "id": "wIDfbXqhNhIP"
      },
      "outputs": [],
      "source": [
        "\n",
        "plt.scatter(l,t1)\n",
        "plt.xlabel('lag')\n",
        "plt.ylabel('autocorrelation')\n",
        "plt.title('2nd dem of 2-dem')\n"
      ],
      "id": "wIDfbXqhNhIP"
    },
    {
      "cell_type": "code",
      "execution_count": null,
      "metadata": {
        "id": "xEfmbPDx6ggx"
      },
      "outputs": [],
      "source": [
        "def algo1(m,d,h1,h2):\n",
        "  x = np.zeros((m,d))\n",
        "  k = 0  # 第1部拒绝\n",
        "  k2 = 0  #第2步拒绝\n",
        "  k3 = 0   # 接受\n",
        "  x[0] = np.array([0,0])\n",
        "  e = np.random.lognormal(0,1,d)\n",
        "  print(e)\n",
        "  data = finite(e,h2) #####\n",
        "  for j in range(1,m):\n",
        "    xt = x[j-1]\n",
        "    y = xt+np.random.normal(0,0.03,d)\n",
        "    s = np.random.rand(1)\n",
        "    u1 = finite(np.exp(xt),h1)\n",
        "    v1 = finite(np.exp(y),h1)\n",
        "    ratio = np.log(multilognorm(np.exp(y)))-np.log(multilognorm(np.exp(xt)))+((np.linalg.norm(data-u1))**2)/(2*10**(-5))-((np.linalg.norm(data-v1))**2)/(2*10**(-5))\n",
        "    if s >= min(1,np.exp(ratio)):\n",
        "      x[j] = xt\n",
        "      k += 1\n",
        "    else:\n",
        "      u2 = finite(np.exp(xt),h2)\n",
        "      v2 = finite(np.exp(y),h2)\n",
        "      ratio2 = np.log(multilognorm(np.exp(y)))-np.log(multilognorm(np.exp(xt)))+((np.linalg.norm(data-u2))**2)/(2*10**(-5))-((np.linalg.norm(data-v2))**2)/(2*10**(-5))\n",
        "      #print(u1,u2)\n",
        "      #print(v1,v2)\n",
        "      #ss = np.random.rand(1)\n",
        "      if s >= min(1,np.exp(ratio2)):\n",
        "        x[j] = xt\n",
        "        k2 += 1\n",
        "      else:\n",
        "        x[j] = y\n",
        "        k3 += 1\n",
        "  print(k/m)\n",
        "  print(k2/m)\n",
        "  print(k3/m)\n",
        "  x = np.exp(x)\n",
        "  return x"
      ],
      "id": "xEfmbPDx6ggx"
    },
    {
      "cell_type": "code",
      "execution_count": null,
      "metadata": {
        "colab": {
          "base_uri": "https://localhost:8080/"
        },
        "id": "XqScth2QOo0V",
        "outputId": "76c0a97d-9278-47b4-b11c-9a2367cc98e7"
      },
      "outputs": [
        {
          "name": "stdout",
          "output_type": "stream",
          "text": [
            "[2.28145427 0.9760174 ]\n",
            "0.408\n",
            "0.272\n",
            "0.319\n",
            "0:02:41.298832\n"
          ]
        }
      ],
      "source": [
        "start = datetime.datetime.now()\n",
        "x = algo1(1000,2,0.005,0.001)\n",
        "print(datetime.datetime.now()-start)\n",
        "\n"
      ],
      "id": "XqScth2QOo0V"
    },
    {
      "cell_type": "code",
      "execution_count": null,
      "metadata": {
        "colab": {
          "base_uri": "https://localhost:8080/"
        },
        "id": "cRIMaaVoc7lW",
        "outputId": "597491bb-8c9e-4aa8-d6aa-82898474b989"
      },
      "outputs": [
        {
          "data": {
            "text/plain": [
              "array([0.65828176, 0.64008084])"
            ]
          },
          "execution_count": 63,
          "metadata": {},
          "output_type": "execute_result"
        }
      ],
      "source": [
        "np.mean(x,axis=0)"
      ],
      "id": "cRIMaaVoc7lW"
    },
    {
      "cell_type": "code",
      "execution_count": null,
      "metadata": {
        "colab": {
          "base_uri": "https://localhost:8080/"
        },
        "id": "3h42P6r3cyK3",
        "outputId": "b6a86184-3627-4a3a-d545-ef96126383ac"
      },
      "outputs": [
        {
          "name": "stderr",
          "output_type": "stream",
          "text": [
            "/usr/local/lib/python3.7/dist-packages/statsmodels/tsa/stattools.py:541: FutureWarning: fft=True will become the default in a future version of statsmodels. To suppress this warning, explicitly set fft=False.\n",
            "  warnings.warn(msg, FutureWarning)\n"
          ]
        }
      ],
      "source": [
        "#for i in range(len(x[0])):\n",
        "  #print(sm.tsa.acf(x[:,i]))"
      ],
      "id": "3h42P6r3cyK3"
    },
    {
      "cell_type": "code",
      "execution_count": null,
      "metadata": {
        "colab": {
          "base_uri": "https://localhost:8080/",
          "height": 367
        },
        "id": "Ge5n7VOm3uEq",
        "outputId": "b0851aaf-e010-471d-f015-6893077d5471"
      },
      "outputs": [
        {
          "name": "stderr",
          "output_type": "stream",
          "text": [
            "/usr/local/lib/python3.7/dist-packages/statsmodels/tsa/stattools.py:541: FutureWarning: fft=True will become the default in a future version of statsmodels. To suppress this warning, explicitly set fft=False.\n",
            "  warnings.warn(msg, FutureWarning)\n"
          ]
        },
        {
          "data": {
            "text/plain": [
              "Text(0.5, 1.0, '1st dem of 2-dem')"
            ]
          },
          "execution_count": 23,
          "metadata": {},
          "output_type": "execute_result"
        },
        {
          "data": {
            "image/png": "[encoded data removed]",
            "text/plain": [
              "<Figure size 432x288 with 1 Axes>"
            ]
          },
          "metadata": {},
          "output_type": "display_data"
        }
      ],
      "source": [
        "t0 = sm.tsa.acf(x[:,0])\n",
        "t1 = sm.tsa.acf(x[:,1])\n",
        "l = np.arange(len(t0))\n",
        "plt.scatter(l,t0)\n",
        "plt.xlabel('lag')\n",
        "plt.ylabel('autocorrelation')\n",
        "plt.title('1st dem of 2-dem')"
      ],
      "id": "Ge5n7VOm3uEq"
    },
    {
      "cell_type": "code",
      "execution_count": null,
      "metadata": {
        "colab": {
          "base_uri": "https://localhost:8080/",
          "height": 312
        },
        "id": "ZgO8MJvS34Ux",
        "outputId": "fd81ea77-fec0-40b6-a82b-1ff7226bb2b1"
      },
      "outputs": [
        {
          "data": {
            "text/plain": [
              "Text(0.5, 1.0, '1st dem of 2-dem')"
            ]
          },
          "execution_count": 24,
          "metadata": {},
          "output_type": "execute_result"
        },
        {
          "data": {
            "image/png": "[encoded data removed]",
            "text/plain": [
              "<Figure size 432x288 with 1 Axes>"
            ]
          },
          "metadata": {},
          "output_type": "display_data"
        }
      ],
      "source": [
        "l = np.arange(len(t1))\n",
        "plt.scatter(l,t1)\n",
        "plt.xlabel('lag')\n",
        "plt.ylabel('autocorrelation')\n",
        "plt.title('1st dem of 2-dem')"
      ],
      "id": "ZgO8MJvS34Ux"
    },
    {
      "cell_type": "code",
      "execution_count": null,
      "metadata": {
        "colab": {
          "base_uri": "https://localhost:8080/",
          "height": 340
        },
        "id": "PBYH0SN8I3-E",
        "outputId": "6119f007-17e3-4837-d07d-dd1717ffe03e"
      },
      "outputs": [
        {
          "name": "stderr",
          "output_type": "stream",
          "text": [
            "/usr/local/lib/python3.7/dist-packages/ipykernel_launcher.py:2: VisibleDeprecationWarning: Passing `normed=True` on non-uniform bins has always been broken, and computes neither the probability density function nor the probability mass function. The result is only correct if the bins are uniform, when density=True will produce the same result anyway. The argument will be removed in a future version of numpy.\n",
            "  \n"
          ]
        },
        {
          "data": {
            "text/plain": [
              "(0.0, 4.0)"
            ]
          },
          "execution_count": 47,
          "metadata": {},
          "output_type": "execute_result"
        },
        {
          "data": {
            "image/png": "[encoded data removed]",
            "text/plain": [
              "<Figure size 432x288 with 1 Axes>"
            ]
          },
          "metadata": {},
          "output_type": "display_data"
        }
      ],
      "source": [
        "tick = np.arange(x[:,0].min(), x[:,0].max(), 0.001)\n",
        "p, y = np.histogram(x, bins=500, normed=True)\n",
        "y = (y[:-1] + y[1:])/2\n",
        "plt.plot(y, p, '--b')\n",
        "plt.xlim(0,4)"
      ],
      "id": "PBYH0SN8I3-E"
    }
  ],
  "metadata": {
    "colab": {
      "collapsed_sections": [],
      "name": "standard_normal.ipynb",
      "provenance": []
    },
    "kernelspec": {
      "display_name": "Python 3 (ipykernel)",
      "language": "python",
      "name": "python3"
    },
    "language_info": {
      "codemirror_mode": {
        "name": "ipython",
        "version": 3
      },
      "file_extension": ".py",
      "mimetype": "text/x-python",
      "name": "python",
      "nbconvert_exporter": "python",
      "pygments_lexer": "ipython3",
      "version": "3.9.6"
    }
  },
  "nbformat": 4,
  "nbformat_minor": 5
}